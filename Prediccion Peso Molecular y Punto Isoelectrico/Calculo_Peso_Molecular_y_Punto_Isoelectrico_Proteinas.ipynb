{
  "nbformat": 4,
  "nbformat_minor": 0,
  "metadata": {
    "colab": {
      "provenance": []
    },
    "kernelspec": {
      "name": "python3",
      "display_name": "Python 3"
    },
    "language_info": {
      "name": "python"
    }
  },
  "cells": [
    {
      "cell_type": "code",
      "source": [
        "!pip install biopython"
      ],
      "metadata": {
        "colab": {
          "base_uri": "https://localhost:8080/"
        },
        "id": "I8hVyVrqVW8a",
        "outputId": "bba53fea-c073-4aeb-a860-4402caf1e4f6",
        "collapsed": true
      },
      "execution_count": 2,
      "outputs": [
        {
          "output_type": "stream",
          "name": "stdout",
          "text": [
            "Collecting biopython\n",
            "  Downloading biopython-1.85-cp311-cp311-manylinux_2_17_x86_64.manylinux2014_x86_64.whl.metadata (13 kB)\n",
            "Requirement already satisfied: numpy in /usr/local/lib/python3.11/dist-packages (from biopython) (2.0.2)\n",
            "Downloading biopython-1.85-cp311-cp311-manylinux_2_17_x86_64.manylinux2014_x86_64.whl (3.3 MB)\n",
            "\u001b[?25l   \u001b[90m━━━━━━━━━━━━━━━━━━━━━━━━━━━━━━━━━━━━━━━━\u001b[0m \u001b[32m0.0/3.3 MB\u001b[0m \u001b[31m?\u001b[0m eta \u001b[36m-:--:--\u001b[0m\r\u001b[2K   \u001b[91m╸\u001b[0m\u001b[90m━━━━━━━━━━━━━━━━━━━━━━━━━━━━━━━━━━━━━━━\u001b[0m \u001b[32m0.1/3.3 MB\u001b[0m \u001b[31m2.4 MB/s\u001b[0m eta \u001b[36m0:00:02\u001b[0m\r\u001b[2K   \u001b[91m━━━━━━\u001b[0m\u001b[91m╸\u001b[0m\u001b[90m━━━━━━━━━━━━━━━━━━━━━━━━━━━━━━━━━\u001b[0m \u001b[32m0.6/3.3 MB\u001b[0m \u001b[31m7.9 MB/s\u001b[0m eta \u001b[36m0:00:01\u001b[0m\r\u001b[2K   \u001b[91m━━━━━━━━━━━━━━━━━━━━━━━━━━━━━━━━━━\u001b[0m\u001b[90m╺\u001b[0m\u001b[90m━━━━━\u001b[0m \u001b[32m2.8/3.3 MB\u001b[0m \u001b[31m26.3 MB/s\u001b[0m eta \u001b[36m0:00:01\u001b[0m\r\u001b[2K   \u001b[90m━━━━━━━━━━━━━━━━━━━━━━━━━━━━━━━━━━━━━━━━\u001b[0m \u001b[32m3.3/3.3 MB\u001b[0m \u001b[31m24.0 MB/s\u001b[0m eta \u001b[36m0:00:00\u001b[0m\n",
            "\u001b[?25hInstalling collected packages: biopython\n",
            "Successfully installed biopython-1.85\n"
          ]
        }
      ]
    },
    {
      "cell_type": "code",
      "execution_count": 3,
      "metadata": {
        "id": "Z5Kc1jnWVVvE"
      },
      "outputs": [],
      "source": [
        "from Bio.SeqUtils import molecular_weight, IsoelectricPoint\n",
        "from Bio.Seq import Seq\n",
        "from Bio.SeqUtils.ProtParam import ProteinAnalysis\n",
        "from Bio import SeqIO\n",
        "\n",
        "def CalcularPesoMolecular(secuencia):\n",
        "    peso_molecular = molecular_weight(secuencia, seq_type=\"protein\")\n",
        "    return peso_molecular\n",
        "\n",
        "def CalcularPuntoIsoelectrico(secuencia):\n",
        "    prot_analysis = ProteinAnalysis(str(secuencia))\n",
        "    pI = prot_analysis.isoelectric_point()\n",
        "    return pI\n",
        "\n"
      ]
    },
    {
      "cell_type": "code",
      "source": [
        "#Para un archivo multifasta de proteínas\n",
        "\n",
        "def PesoMolecular_PI_Multifasta(input_fasta, output_tsv):\n",
        "  '''\n",
        "  Esta función procesa un archivo multifasta determinando el peso molecular y pI de las secuencias proteicas y retorna un .tsv con dichos valores.\n",
        "  '''\n",
        "  with open(input_fasta, 'r') as fasta_file, open(output_tsv, 'w') as output_tsv:\n",
        "    output_tsv.write(\"protein_id\\tpeso_molecular\\tPI\\n\")\n",
        "    for record in SeqIO.parse(fasta_file, \"fasta\"):\n",
        "      protein_id = record.id  # El identificador de la proteína (header)\n",
        "      secuencia_proteina = record.seq  # La secuencia de la proteína\n",
        "\n",
        "      # Calcular el peso molecular y el punto isoelectrico\n",
        "      peso_molecular = CalcularPesoMolecular(secuencia_proteina)\n",
        "      pI = CalcularPuntoIsoelectrico(secuencia_proteina)\n",
        "\n",
        "      # Escribir los resultados en el archivo .tsv\n",
        "      output_tsv.write(f\"{protein_id}\\t{peso_molecular}\\t{pI}\\n\")\n",
        "\n",
        "# Ejemplo de uso\n",
        "input_fasta = \"\"  # El archivo FASTA con las secuencias\n",
        "output_tsv = \"\"    # El archivo de salida en formato TSV\n",
        "\n",
        "PesoMolecular_PI_Multifasta(input_fasta, output_tsv)\n",
        "\n",
        "print(f\"Resultados guardados en {output_tsv}\")\n"
      ],
      "metadata": {
        "id": "tf2E2TYHkpWQ"
      },
      "execution_count": null,
      "outputs": []
    },
    {
      "cell_type": "code",
      "source": [
        "#Para una secuencia en particular\n",
        "\n",
        "Secuencia = \"\"\n",
        "\n",
        "PM = CalcularPesoMolecular(Secuencia)\n",
        "PI = CalcularPuntoIsoelectrico(Secuencia)\n",
        "\n",
        "print(f\"Peso Molecular: {PM}\")\n",
        "print(f\"Punto Isoelectrico: {PI}\")\n"
      ],
      "metadata": {
        "id": "tEbkaNKU6NBg"
      },
      "execution_count": null,
      "outputs": []
    }
  ]
}